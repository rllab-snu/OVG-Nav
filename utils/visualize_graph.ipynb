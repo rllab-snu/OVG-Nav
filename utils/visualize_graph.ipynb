{
 "cells": [
  {
   "cell_type": "code",
   "execution_count": 1,
   "metadata": {},
   "outputs": [],
   "source": [
    "import sys\n",
    "sys.path.append('../')\n",
    "import os\n",
    "os.environ[\"OMP_NUM_THREADS\"] = '1'\n",
    "import argparse"
   ]
  },
  {
   "cell_type": "code",
   "execution_count": 2,
   "metadata": {},
   "outputs": [],
   "source": [
    "parser = argparse.ArgumentParser(\"OVG-Nav\")\n",
    "\n",
    "\n",
    "parser.add_argument('--model_name', default='cm_0706/0706_mp3d21_pano_goalscore_adjloss0.5_use_cm_maxdist30.0_lr0.01', type=str)\n",
    "parser.add_argument(\"--value_model\", type=str, default='../goal_dist_pred/logs/{}/model_10.pth')\n",
    "parser.add_argument('--vis_feat_dim', default=512, type=int)\n",
    "parser.add_argument('--max_dist', default=30., type=float)\n",
    "parser.add_argument('--use_cm_score', default=True, type=bool)\n",
    "parser.add_argument('--dataset', type=str, default='mp3d')\n",
    "parser.add_argument('--goal_cat', type=str, default='mp3d_21')\n",
    "parser.add_argument(\"--cm_type\", type=str, default=\"comet\")\n",
    "\n",
    "# Misc\n",
    "parser.add_argument('--seed', type=int, default=1, help=\"random seed (default: 1)\")\n",
    "parser.add_argument('--gpu', type=str, default='9', help=\"which gpu devices to use\")\n",
    "parser.add_argument(\"--model_gpu\", type=str, default=\"0\")\n",
    "\n",
    "\n",
    "parser.add_argument('--data-dir', default='/Dataset/cm_graph/mp3d/0704/21cat_relative_pose_step_by_step_pano_edge1.0_v2', type=str)\n",
    "parser.add_argument(\"--floorplan_data_dir\", type=str, default='/Dataset/habitat/data/floorplans')\n",
    "parser.add_argument('--save_dir', default='visualize_graph/{}', type=str)\n",
    "\n",
    "\n",
    "args = parser.parse_args([])\n",
    "\n",
    "args.value_model = args.value_model.format(args.model_name)\n",
    "args.save_dir = args.save_dir.format(args.model_name)\n"
   ]
  },
  {
   "cell_type": "code",
   "execution_count": 3,
   "metadata": {},
   "outputs": [
    {
     "ename": "ModuleNotFoundError",
     "evalue": "No module named 'habitat_sim'",
     "output_type": "error",
     "traceback": [
      "\u001b[0;31m---------------------------------------------------------------------------\u001b[0m",
      "\u001b[0;31mModuleNotFoundError\u001b[0m                       Traceback (most recent call last)",
      "\u001b[0;32m/tmp/ipykernel_971860/3582991557.py\u001b[0m in \u001b[0;36m<module>\u001b[0;34m\u001b[0m\n\u001b[1;32m     13\u001b[0m \u001b[0;32mimport\u001b[0m \u001b[0mpickle\u001b[0m\u001b[0;34m\u001b[0m\u001b[0;34m\u001b[0m\u001b[0m\n\u001b[1;32m     14\u001b[0m \u001b[0;34m\u001b[0m\u001b[0m\n\u001b[0;32m---> 15\u001b[0;31m \u001b[0;32mimport\u001b[0m \u001b[0mhabitat_sim\u001b[0m\u001b[0;34m\u001b[0m\u001b[0;34m\u001b[0m\u001b[0m\n\u001b[0m\u001b[1;32m     16\u001b[0m \u001b[0;34m\u001b[0m\u001b[0m\n\u001b[1;32m     17\u001b[0m \u001b[0;34m\u001b[0m\u001b[0m\n",
      "\u001b[0;31mModuleNotFoundError\u001b[0m: No module named 'habitat_sim'"
     ]
    }
   ],
   "source": [
    "os.environ[\"CUDA_VISIBLE_DEVICES\"] = args.gpu\n",
    "import cv2\n",
    "import matplotlib.pyplot as plt\n",
    "import matplotlib.colors as mcolors\n",
    "import matplotlib.patches as patches\n",
    "\n",
    "\n",
    "import json\n",
    "import torch\n",
    "import torch.nn as nn\n",
    "import numpy as np\n",
    "from tqdm import tqdm\n",
    "import pickle\n",
    "\n",
    "import habitat_sim\n",
    "\n",
    "\n",
    "from utils.visualizations.maps import get_topdown_map_from_sim, to_grid, TopdownView\n",
    "from utils.graph_utils.graph_pano_cs import GraphMap\n",
    "from utils.obj_category_info import obj_names, gibson_goal_obj_names, mp3d_goal_obj_names, room_names, mp3d_room_names, d3_40_colors_rgb\n",
    "from goal_dist_pred.model_value_graph_0607 import TopoGCN_v2_pano_goalscore as ValueModel\n",
    "from goal_dist_pred.dataloader_batch_graph_data_0607 import Batch_traj_DataLoader_pano_goalscore as Batch_traj_DataLoader\n",
    "from navigation.configs.settings_pano_navi import make_settings, make_cfg"
   ]
  },
  {
   "cell_type": "markdown",
   "metadata": {},
   "source": [
    "## Initialize settings"
   ]
  },
  {
   "cell_type": "markdown",
   "metadata": {},
   "source": [
    "### Model initialization"
   ]
  },
  {
   "cell_type": "code",
   "execution_count": null,
   "metadata": {},
   "outputs": [],
   "source": [
    "value_model = ValueModel(args)\n",
    "value_model = nn.DataParallel(value_model).cuda()\n",
    "checkpoint = torch.load(args.value_model)\n",
    "value_model.load_state_dict(checkpoint)\n",
    "value_model.eval()\n",
    "print(\"Successfully load the value model\")\n",
    "print(\"Model: {}\".format(args.model_name))"
   ]
  },
  {
   "cell_type": "markdown",
   "metadata": {},
   "source": [
    "### Data loader\n"
   ]
  },
  {
   "cell_type": "code",
   "execution_count": null,
   "metadata": {},
   "outputs": [],
   "source": [
    "val_envs = [os.path.join(args.data_dir, 'val', name) for name in os.listdir(os.path.join(args.data_dir, 'val'))]\n",
    "val_envs.sort()\n",
    "val_list = []\n",
    "for env in val_envs:\n",
    "    val_list = val_list + [os.path.join(env, x) for x in os.listdir(env)]\n",
    "val_list.sort()\n",
    "val_batch_num = int(len(val_list))\n",
    "val_dataset = Batch_traj_DataLoader(args, val_list)"
   ]
  },
  {
   "cell_type": "markdown",
   "metadata": {},
   "source": [
    "## Graph visualization functions"
   ]
  },
  {
   "cell_type": "code",
   "execution_count": null,
   "metadata": {},
   "outputs": [],
   "source": [
    "def get_vis_grid_pose(pose, vis_map_info):\n",
    "    pose = np.array(pose) + np.array(vis_map_info['bias_position'])\n",
    "    realworld_y, realword_x = pose[2], pose[0]\n",
    "    grid_resolution = vis_map_info['grid_resolution']\n",
    "    \n",
    "    lower_bound, upper_bound = vis_map_info['env_bound']\n",
    "    grid_size = (\n",
    "        abs(upper_bound[2] - lower_bound[2]) / grid_resolution[0],\n",
    "        abs(upper_bound[0] - lower_bound[0]) / grid_resolution[1],\n",
    "    )\n",
    "    grid_y = int((realworld_y - lower_bound[2]) / grid_size[0])\n",
    "    grid_x = int((realworld_x - lower_bound[0]) / grid_size[1])\n",
    "    \n",
    "    return (grid_x, grid_y)\n",
    "\n",
    "def vis_pos_on_topdown_map(pos, vis_map, vis_map_info, color=(255, 0, 0)):\n",
    "    vis_map = vis_map.copy()\n",
    "    node_grid = get_vis_grid_pose(pos, vis_map_info)\n",
    "    vis_map = cv2.rectangle(vis_map, (node_grid[0] - 8, node_grid[1] - 8), (node_grid[0] + 8, node_grid[1] + 8),\n",
    "                            color, -1)\n",
    "    return vis_map\n",
    "\n",
    "\n",
    "def vis_topdown_graph_map(vis_map, graph_map, obj_value, vis_map_info, vis_obj_score=None, curr_node_id=None):\n",
    "    cmap = mcolors.LinearSegmentedColormap.from_list(\"mycmap\", ['darkblue', 'yellow'])\n",
    "    node_list = list(graph_map.node_by_id.values())\n",
    "\n",
    "    for edge in list(graph_map.edges):\n",
    "        pos1 = np.array(edge.nodes[0].pos) if edge.nodes[0].vis_pos is None else np.array(edge.nodes[0].vis_pos)\n",
    "        pos2 = np.array(edge.nodes[1].pos) if edge.nodes[1].vis_pos is None else np.array(edge.nodes[1].vis_pos)\n",
    "        node_grid1 = get_vis_grid_pose(pos1, vis_map_info)\n",
    "        node_grid2 = get_vis_grid_pose(pos2, vis_map_info)\n",
    "        vis_map = cv2.line(vis_map, node_grid1, node_grid2, (0, 64, 64), 5)\n",
    "        edge.draw = True\n",
    "\n",
    "\n",
    "    for idx, node in enumerate(node_list):\n",
    "\n",
    "        node_pos = np.array(node.pos) if node.vis_pos is None else np.array(node.vis_pos)\n",
    "\n",
    "        node_grid = get_vis_grid_pose(node_pos, vis_map_info)\n",
    "        color = (0, 255, 0)\n",
    "        \n",
    "        color_value = np.array(cmap(obj_value[idx]))\n",
    "        color_value = color_value[:3] *255\n",
    "        color_value = np.around(color_value).astype(np.uint8)\n",
    "        cand_color = tuple(color_value)\n",
    "        cand_color = tuple(int(c) for c in cand_color)\n",
    "        goal_color = (255, 255, 0)\n",
    "        if node.visited:\n",
    "            if node.nodeid == curr_node_id:\n",
    "                vis_map = cv2.circle(vis_map, node_grid, 10, (255,0,0), -1)\n",
    "            else:\n",
    "                vis_map = cv2.circle(vis_map, node_grid, 10, color, -1)\n",
    "        else:\n",
    "            vis_map = cv2.circle(vis_map, node_grid, 10, color=cand_color, thickness=-1)\n",
    "\n",
    "        node.draw = True\n",
    "\n",
    "\n",
    "    return vis_map\n",
    "\n",
    "\n",
    "def save_graph_on_topdown_map(vis_map, value_type, save_name, goal_name, env_name, save=False):\n",
    "\n",
    "    txt = '[{}] goal: {}, value type: {}, '.format(env_name, goal_name, value_type)\n",
    "    if save:\n",
    "        font = cv2.FONT_HERSHEY_SIMPLEX\n",
    "        font_scale = 1\n",
    "        color = (255, 255, 255)\n",
    "        thickness = 2\n",
    "        text_size = cv2.getTextSize(txt, font, font_scale, thickness)[0]\n",
    "        text_position = (10, vis_map.shape[0] + text_size[1] * 2 + 10)\n",
    "        canvas_height = vis_map.shape[0] + text_size[1] * 2 + 40\n",
    "        canvas_width = vis_map.shape[1]\n",
    "        canvas = np.zeros((canvas_height, canvas_width, 3), dtype=np.uint8)\n",
    "        canvas[:vis_map.shape[0], :] = vis_map\n",
    "        canvas = cv2.cvtColor(canvas, cv2.COLOR_BGR2RGB)\n",
    "        cv2.putText(canvas, txt, text_position, font, font_scale, color, thickness)\n",
    "        cv2.imwrite(save_name, canvas)\n",
    "    else:\n",
    "        plt.imshow(vis_map)\n",
    "        plt.figtext(0.5, 0.01, txt, ha='center', fontsize=12, va='bottom')\n",
    "        plt.axis('off')\n",
    "        plt.tight_layout()\n",
    "        plt.show()\n",
    "    return\n",
    "\n",
    "\n",
    "def save_comparison_on_topdown_map(gt_map, cm_map, value_map, save_name, goal_name, env_name, acc, save=False):\n",
    "    \n",
    "    \n",
    "    \n",
    "    txt = '[{}]   Goal: {}, value acc: {:.4f}, rank acc: {}, pred diff: {:.4f}'.format(env_name, goal_name, acc['value_acc'], acc['rank_acc'], acc['pred_diff'])\n",
    "    \n",
    "    fig, axes = plt.subplots(1, 3, figsize=(12, 4))\n",
    "\n",
    "    sub1 = axes[0]\n",
    "    sub1.imshow(gt_map)\n",
    "    sub1.set_title('GT')\n",
    "    sub1.axis('off')\n",
    "\n",
    "    sub2 = axes[1]\n",
    "    sub2.imshow(cm_map)\n",
    "    sub2.set_title('commonsense score')\n",
    "    sub2.axis('off')\n",
    "\n",
    "    sub3 = axes[2]\n",
    "    sub3.imshow(value_map)\n",
    "    sub3.set_title('object value')\n",
    "    sub3.axis('off')\n",
    "\n",
    "    # Add a bounding box around the entire subplot grid\n",
    "    for ax in [sub1, sub2, sub3]:\n",
    "        rect = patches.Rectangle((0, 0), 1, 1, edgecolor='black', linewidth=2, fill=False, transform=ax.transAxes)\n",
    "        ax.add_patch(rect)\n",
    "\n",
    "\n",
    "    fig.text(0.5, -0.001, txt, ha='center', fontsize=12, va='bottom')\n",
    "#     plt.tight_layout()\n",
    "    \n",
    "    \n",
    "    if save:\n",
    "        plt.savefig(save_name, dpi=300)\n",
    "    else:\n",
    "        plt.show()\n",
    "    plt.close()\n",
    "    return\n",
    "\n"
   ]
  },
  {
   "cell_type": "markdown",
   "metadata": {},
   "source": [
    "## Inference"
   ]
  },
  {
   "cell_type": "markdown",
   "metadata": {},
   "source": [
    "### prediction"
   ]
  },
  {
   "cell_type": "code",
   "execution_count": null,
   "metadata": {},
   "outputs": [],
   "source": [
    "data_name = val_list[10]\n",
    "\n",
    "def pred_value(data_name):\n",
    "    with open(f'{data_name}/graph.pkl', 'rb') as f:\n",
    "        graph_data = pickle.load(f)\n",
    "\n",
    "    with torch.no_grad():\n",
    "        data = val_dataset.load_data(data_name)\n",
    "        features = data['node_features'].cuda()\n",
    "        info_features = data['node_info_features'].cuda()\n",
    "        goal_features = data['node_goal_features'].cuda()\n",
    "        adj_mtx = data['adj_mtx'].cuda()\n",
    "        node_goal_dists = data['node_goal_dists'].cuda()\n",
    "        goal_idx = data['goal_idx']\n",
    "\n",
    "        pred_dist = value_model(features, goal_features, info_features, adj_mtx)\n",
    "    \n",
    "    return graph_data, data, features, info_features, goal_features, adj_mtx, node_goal_dists, goal_idx, pred_dist\n",
    "\n",
    "graph_data, data, features, info_features, goal_features, adj_mtx, node_goal_dists, goal_idx, pred_dist = pred_value(data_name)"
   ]
  },
  {
   "cell_type": "markdown",
   "metadata": {},
   "source": [
    "### evaluation"
   ]
  },
  {
   "cell_type": "code",
   "execution_count": null,
   "metadata": {},
   "outputs": [],
   "source": [
    "def eval_result(data, pred_dist, node_goal_dists):\n",
    "    value_acc = torch.mean(torch.where(abs(pred_dist - node_goal_dists) <= 0.1, 1, 0).float())\n",
    "    if node_goal_dists.size()[0] >= 3:\n",
    "        topk_list = torch.topk(node_goal_dists, 3, dim=0).indices\n",
    "    else:\n",
    "        topk_list = torch.topk(node_goal_dists, node_goal_dists.size()[0], dim=0).indices\n",
    "    rank_acc = float(torch.argmax(pred_dist, dim=0) in topk_list)\n",
    "    pred_diff = np.linalg.norm(data['node_pose'][torch.argmax(pred_dist)] - data['node_pose'][torch.argmax(node_goal_dists)])\n",
    "\n",
    "    acc = {\n",
    "        'value_acc': value_acc,\n",
    "        'rank_acc': rank_acc,\n",
    "        'pred_diff': pred_diff\n",
    "    }\n",
    "    return acc\n",
    "\n",
    "acc = eval_result(data, pred_dist, node_goal_dists)"
   ]
  },
  {
   "cell_type": "markdown",
   "metadata": {},
   "source": [
    "## Visualization"
   ]
  },
  {
   "cell_type": "markdown",
   "metadata": {},
   "source": [
    "### Visualize value graph"
   ]
  },
  {
   "cell_type": "code",
   "execution_count": 4,
   "metadata": {},
   "outputs": [
    {
     "ename": "NameError",
     "evalue": "name 'graph_data' is not defined",
     "output_type": "error",
     "traceback": [
      "\u001b[0;31m---------------------------------------------------------------------------\u001b[0m",
      "\u001b[0;31mNameError\u001b[0m                                 Traceback (most recent call last)",
      "\u001b[0;32m/tmp/ipykernel_971860/3073096372.py\u001b[0m in \u001b[0;36m<module>\u001b[0;34m\u001b[0m\n\u001b[1;32m     19\u001b[0m     \u001b[0;32mreturn\u001b[0m \u001b[0mvis_map\u001b[0m\u001b[0;34m,\u001b[0m \u001b[0mvis_map_info\u001b[0m\u001b[0;34m\u001b[0m\u001b[0;34m\u001b[0m\u001b[0m\n\u001b[1;32m     20\u001b[0m \u001b[0;34m\u001b[0m\u001b[0m\n\u001b[0;32m---> 21\u001b[0;31m \u001b[0mvis_map\u001b[0m\u001b[0;34m,\u001b[0m \u001b[0mvis_map_info\u001b[0m \u001b[0;34m=\u001b[0m \u001b[0mload_floor_map\u001b[0m\u001b[0;34m(\u001b[0m\u001b[0mgraph_data\u001b[0m\u001b[0;34m,\u001b[0m \u001b[0margs\u001b[0m\u001b[0;34m.\u001b[0m\u001b[0mdata_dir\u001b[0m\u001b[0;34m)\u001b[0m\u001b[0;34m\u001b[0m\u001b[0;34m\u001b[0m\u001b[0m\n\u001b[0m",
      "\u001b[0;31mNameError\u001b[0m: name 'graph_data' is not defined"
     ]
    }
   ],
   "source": [
    "def load_floor_map(graph_data, data_dir):\n",
    "    env_name = graph_data.env_data['env_name']\n",
    "    level = graph_data.env_data['level']\n",
    "    bias_position = graph_data.env_data['bias_position']\n",
    "    bias_rotation = graph_data.env_data['bias_rotation']\n",
    "    env_bound = graph_data.env_data['env_bound']\n",
    "    goal_category = graph_data.goal_cm_info['goal_category']\n",
    "    \n",
    "    vis_map = cv2.imread(f'{data_dir}/floor_map/val/{env_name}/floor_map_lv{level}_{goal_category}.png')\n",
    "    vis_map = cv2.cvtColor(vis_map, cv2.COLOR_BGR2RGB)\n",
    "    \n",
    "    vis_map_info = {\n",
    "        'grid_resolution': np.shape(vis_map),\n",
    "        'bias_position': bias_position,\n",
    "        'bias_rotation': bias_rotation,\n",
    "        'env_bound': env_bound,\n",
    "    }\n",
    "    \n",
    "    return vis_map, vis_map_info\n",
    "\n",
    "vis_map, vis_map_info = load_floor_map(graph_data, args.data_dir)"
   ]
  },
  {
   "cell_type": "code",
   "execution_count": 5,
   "metadata": {},
   "outputs": [
    {
     "ename": "NameError",
     "evalue": "name 'pred_dist' is not defined",
     "output_type": "error",
     "traceback": [
      "\u001b[0;31m---------------------------------------------------------------------------\u001b[0m",
      "\u001b[0;31mNameError\u001b[0m                                 Traceback (most recent call last)",
      "\u001b[0;32m/tmp/ipykernel_971860/3399290673.py\u001b[0m in \u001b[0;36m<module>\u001b[0;34m\u001b[0m\n\u001b[0;32m----> 1\u001b[0;31m \u001b[0mobj_value\u001b[0m \u001b[0;34m=\u001b[0m \u001b[0mnp\u001b[0m\u001b[0;34m.\u001b[0m\u001b[0msqueeze\u001b[0m\u001b[0;34m(\u001b[0m\u001b[0mpred_dist\u001b[0m\u001b[0;34m.\u001b[0m\u001b[0mcpu\u001b[0m\u001b[0;34m(\u001b[0m\u001b[0;34m)\u001b[0m\u001b[0;34m.\u001b[0m\u001b[0mnumpy\u001b[0m\u001b[0;34m(\u001b[0m\u001b[0;34m)\u001b[0m\u001b[0;34m,\u001b[0m \u001b[0maxis\u001b[0m\u001b[0;34m=\u001b[0m\u001b[0;36m1\u001b[0m\u001b[0;34m)\u001b[0m\u001b[0;34m\u001b[0m\u001b[0;34m\u001b[0m\u001b[0m\n\u001b[0m\u001b[1;32m      2\u001b[0m \u001b[0mvis_map\u001b[0m \u001b[0;34m=\u001b[0m \u001b[0mvis_topdown_graph_map\u001b[0m\u001b[0;34m(\u001b[0m\u001b[0mvis_map\u001b[0m\u001b[0;34m,\u001b[0m \u001b[0mgraph_data\u001b[0m\u001b[0;34m,\u001b[0m \u001b[0mobj_value\u001b[0m\u001b[0;34m,\u001b[0m \u001b[0mvis_map_info\u001b[0m\u001b[0;34m,\u001b[0m \u001b[0mcurr_node_id\u001b[0m\u001b[0;34m=\u001b[0m\u001b[0mgraph_data\u001b[0m\u001b[0;34m.\u001b[0m\u001b[0mvisited_node_ids\u001b[0m\u001b[0;34m[\u001b[0m\u001b[0;34m-\u001b[0m\u001b[0;36m1\u001b[0m\u001b[0;34m]\u001b[0m\u001b[0;34m)\u001b[0m\u001b[0;34m\u001b[0m\u001b[0;34m\u001b[0m\u001b[0m\n\u001b[1;32m      3\u001b[0m \u001b[0;34m\u001b[0m\u001b[0m\n\u001b[1;32m      4\u001b[0m \u001b[0mvalue_type\u001b[0m \u001b[0;34m=\u001b[0m \u001b[0;34m'Value Estimation'\u001b[0m\u001b[0;34m\u001b[0m\u001b[0;34m\u001b[0m\u001b[0m\n\u001b[1;32m      5\u001b[0m \u001b[0msave_name\u001b[0m \u001b[0;34m=\u001b[0m \u001b[0margs\u001b[0m\u001b[0;34m.\u001b[0m\u001b[0msave_dir\u001b[0m \u001b[0;34m+\u001b[0m\u001b[0;34m'/'\u001b[0m \u001b[0;34m+\u001b[0m \u001b[0mdata_name\u001b[0m\u001b[0;34m.\u001b[0m\u001b[0msplit\u001b[0m\u001b[0;34m(\u001b[0m\u001b[0;34m'/'\u001b[0m\u001b[0;34m)\u001b[0m\u001b[0;34m[\u001b[0m\u001b[0;34m-\u001b[0m\u001b[0;36m1\u001b[0m\u001b[0;34m]\u001b[0m\u001b[0;34m\u001b[0m\u001b[0;34m\u001b[0m\u001b[0m\n",
      "\u001b[0;31mNameError\u001b[0m: name 'pred_dist' is not defined"
     ]
    }
   ],
   "source": [
    "obj_value = np.squeeze(pred_dist.cpu().numpy(), axis=1)\n",
    "vis_map = vis_topdown_graph_map(vis_map, graph_data, obj_value, vis_map_info, curr_node_id=graph_data.visited_node_ids[-1])\n",
    "\n",
    "value_type = 'Value Estimation'\n",
    "save_name = args.save_dir +'/' + data_name.split('/')[-1]\n",
    "if not os.path.exists(args.save_dir):\n",
    "    os.makedirs(args.save_dir)\n",
    "goal_name = graph_data.goal_cm_info['goal_category']\n",
    "env_name = data_name.split('/')[-1].split('_')[0]\n",
    "\n",
    "save_graph_on_topdown_map(vis_map, value_type, save_name, goal_name, env_name, save=False)"
   ]
  },
  {
   "cell_type": "code",
   "execution_count": 6,
   "metadata": {},
   "outputs": [],
   "source": [
    "def draw_graph_comparison(graph_data, node_goal_dists, info_features, pred_dist, acc, vis_map, vis_map_info, save_name, save=False):\n",
    "    ## gt_map\n",
    "    gt_map = np.copy(vis_map)\n",
    "    gt_value = np.squeeze(node_goal_dists.cpu().numpy(), axis=1)\n",
    "    gt_map = vis_topdown_graph_map(gt_map, graph_data, gt_value, vis_map_info, curr_node_id=graph_data.visited_node_ids[-1])\n",
    "\n",
    "\n",
    "    ## cm_map\n",
    "    cm_map = np.copy(vis_map)\n",
    "    cm_value = np.max(info_features[:,4:].cpu().numpy(), axis=1)\n",
    "    cm_map = vis_topdown_graph_map(cm_map, graph_data, cm_value, vis_map_info, curr_node_id=graph_data.visited_node_ids[-1])\n",
    "\n",
    "    ## value_map\n",
    "    value_map = np.copy(vis_map)\n",
    "    obj_value = np.squeeze(pred_dist.cpu().numpy(), axis=1)\n",
    "    value_map = vis_topdown_graph_map(value_map, graph_data, obj_value, vis_map_info, curr_node_id=graph_data.visited_node_ids[-1])\n",
    "\n",
    "\n",
    "    save_comparison_on_topdown_map(gt_map, cm_map, value_map, save_name, goal_name, env_name, acc, save=save)"
   ]
  },
  {
   "cell_type": "code",
   "execution_count": 7,
   "metadata": {},
   "outputs": [
    {
     "ename": "NameError",
     "evalue": "name 'graph_data' is not defined",
     "output_type": "error",
     "traceback": [
      "\u001b[0;31m---------------------------------------------------------------------------\u001b[0m",
      "\u001b[0;31mNameError\u001b[0m                                 Traceback (most recent call last)",
      "\u001b[0;32m/tmp/ipykernel_971860/1840603353.py\u001b[0m in \u001b[0;36m<module>\u001b[0;34m\u001b[0m\n\u001b[0;32m----> 1\u001b[0;31m \u001b[0mvis_map\u001b[0m\u001b[0;34m,\u001b[0m \u001b[0mvis_map_info\u001b[0m \u001b[0;34m=\u001b[0m \u001b[0mload_floor_map\u001b[0m\u001b[0;34m(\u001b[0m\u001b[0mgraph_data\u001b[0m\u001b[0;34m,\u001b[0m \u001b[0margs\u001b[0m\u001b[0;34m.\u001b[0m\u001b[0mdata_dir\u001b[0m\u001b[0;34m)\u001b[0m\u001b[0;34m\u001b[0m\u001b[0;34m\u001b[0m\u001b[0m\n\u001b[0m\u001b[1;32m      2\u001b[0m \u001b[0mdraw_graph_comparison\u001b[0m\u001b[0;34m(\u001b[0m\u001b[0mgraph_data\u001b[0m\u001b[0;34m,\u001b[0m \u001b[0mnode_goal_dists\u001b[0m\u001b[0;34m,\u001b[0m \u001b[0minfo_features\u001b[0m\u001b[0;34m,\u001b[0m \u001b[0mpred_dist\u001b[0m\u001b[0;34m,\u001b[0m \u001b[0macc\u001b[0m\u001b[0;34m,\u001b[0m \u001b[0mvis_map\u001b[0m\u001b[0;34m,\u001b[0m \u001b[0mvis_map_info\u001b[0m\u001b[0;34m,\u001b[0m \u001b[0msave\u001b[0m\u001b[0;34m=\u001b[0m\u001b[0;32mTrue\u001b[0m\u001b[0;34m)\u001b[0m\u001b[0;34m\u001b[0m\u001b[0;34m\u001b[0m\u001b[0m\n",
      "\u001b[0;31mNameError\u001b[0m: name 'graph_data' is not defined"
     ]
    }
   ],
   "source": [
    "vis_map, vis_map_info = load_floor_map(graph_data, args.data_dir)\n",
    "draw_graph_comparison(graph_data, node_goal_dists, info_features, pred_dist, acc, vis_map, vis_map_info, save=True)"
   ]
  },
  {
   "cell_type": "code",
   "execution_count": 8,
   "metadata": {},
   "outputs": [
    {
     "ename": "NameError",
     "evalue": "name 'val_list' is not defined",
     "output_type": "error",
     "traceback": [
      "\u001b[0;31m---------------------------------------------------------------------------\u001b[0m",
      "\u001b[0;31mNameError\u001b[0m                                 Traceback (most recent call last)",
      "\u001b[0;32m/tmp/ipykernel_971860/3475441656.py\u001b[0m in \u001b[0;36m<module>\u001b[0;34m\u001b[0m\n\u001b[0;32m----> 1\u001b[0;31m \u001b[0;32mfor\u001b[0m \u001b[0mi\u001b[0m \u001b[0;32min\u001b[0m \u001b[0mtqdm\u001b[0m\u001b[0;34m(\u001b[0m\u001b[0mrange\u001b[0m\u001b[0;34m(\u001b[0m\u001b[0mlen\u001b[0m\u001b[0;34m(\u001b[0m\u001b[0mval_list\u001b[0m\u001b[0;34m)\u001b[0m\u001b[0;34m)\u001b[0m\u001b[0;34m)\u001b[0m\u001b[0;34m:\u001b[0m\u001b[0;34m\u001b[0m\u001b[0;34m\u001b[0m\u001b[0m\n\u001b[0m\u001b[1;32m      2\u001b[0m     \u001b[0mdata_name\u001b[0m \u001b[0;34m=\u001b[0m \u001b[0mval_list\u001b[0m\u001b[0;34m[\u001b[0m\u001b[0mi\u001b[0m\u001b[0;34m]\u001b[0m\u001b[0;34m\u001b[0m\u001b[0;34m\u001b[0m\u001b[0m\n\u001b[1;32m      3\u001b[0m     \u001b[0mgraph_data\u001b[0m\u001b[0;34m,\u001b[0m \u001b[0mdata\u001b[0m\u001b[0;34m,\u001b[0m \u001b[0mfeatures\u001b[0m\u001b[0;34m,\u001b[0m \u001b[0minfo_features\u001b[0m\u001b[0;34m,\u001b[0m \u001b[0mgoal_features\u001b[0m\u001b[0;34m,\u001b[0m \u001b[0madj_mtx\u001b[0m\u001b[0;34m,\u001b[0m \u001b[0mnode_goal_dists\u001b[0m\u001b[0;34m,\u001b[0m \u001b[0mgoal_idx\u001b[0m\u001b[0;34m,\u001b[0m \u001b[0mpred_dist\u001b[0m \u001b[0;34m=\u001b[0m \u001b[0mpred_value\u001b[0m\u001b[0;34m(\u001b[0m\u001b[0mdata_name\u001b[0m\u001b[0;34m)\u001b[0m\u001b[0;34m\u001b[0m\u001b[0;34m\u001b[0m\u001b[0m\n\u001b[1;32m      4\u001b[0m     \u001b[0macc\u001b[0m \u001b[0;34m=\u001b[0m \u001b[0meval_result\u001b[0m\u001b[0;34m(\u001b[0m\u001b[0mdata\u001b[0m\u001b[0;34m,\u001b[0m \u001b[0mpred_dist\u001b[0m\u001b[0;34m,\u001b[0m \u001b[0mnode_goal_dists\u001b[0m\u001b[0;34m)\u001b[0m\u001b[0;34m\u001b[0m\u001b[0;34m\u001b[0m\u001b[0m\n\u001b[1;32m      5\u001b[0m     \u001b[0msave_name\u001b[0m \u001b[0;34m=\u001b[0m \u001b[0margs\u001b[0m\u001b[0;34m.\u001b[0m\u001b[0msave_dir\u001b[0m \u001b[0;34m+\u001b[0m\u001b[0;34m'/'\u001b[0m \u001b[0;34m+\u001b[0m \u001b[0mdata_name\u001b[0m\u001b[0;34m.\u001b[0m\u001b[0msplit\u001b[0m\u001b[0;34m(\u001b[0m\u001b[0;34m'/'\u001b[0m\u001b[0;34m)\u001b[0m\u001b[0;34m[\u001b[0m\u001b[0;34m-\u001b[0m\u001b[0;36m1\u001b[0m\u001b[0;34m]\u001b[0m\u001b[0;34m\u001b[0m\u001b[0;34m\u001b[0m\u001b[0m\n",
      "\u001b[0;31mNameError\u001b[0m: name 'val_list' is not defined"
     ]
    }
   ],
   "source": [
    "for i in tqdm(range(len(val_list))):\n",
    "    data_name = val_list[i]\n",
    "    graph_data, data, features, info_features, goal_features, adj_mtx, node_goal_dists, goal_idx, pred_dist = pred_value(data_name)\n",
    "    acc = eval_result(data, pred_dist, node_goal_dists)\n",
    "    save_name = args.save_dir +'/' + data_name.split('/')[-1]\n",
    "    if not os.path.exists(args.save_dir):\n",
    "        os.makedirs(args.save_dir)\n",
    "    vis_map, vis_map_info = load_floor_map(graph_data, args.data_dir)\n",
    "    draw_graph_comparison(graph_data, node_goal_dists, info_features, pred_dist, acc, vis_map, vis_map_info, save_name, save=True)"
   ]
  },
  {
   "cell_type": "code",
   "execution_count": null,
   "metadata": {},
   "outputs": [],
   "source": [
    "2*2*np.sin(np.deg2rad(15))"
   ]
  }
 ],
 "metadata": {
  "kernelspec": {
   "display_name": "vl_emb",
   "language": "python",
   "name": "vl_emb"
  },
  "language_info": {
   "codemirror_mode": {
    "name": "ipython",
    "version": 3
   },
   "file_extension": ".py",
   "mimetype": "text/x-python",
   "name": "python",
   "nbconvert_exporter": "python",
   "pygments_lexer": "ipython3",
   "version": "3.7.16"
  }
 },
 "nbformat": 4,
 "nbformat_minor": 4
}
